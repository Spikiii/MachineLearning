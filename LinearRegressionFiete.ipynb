{
 "cells": [
  {
   "cell_type": "code",
   "execution_count": 7,
   "metadata": {
    "collapsed": false
   },
   "outputs": [
    {
     "name": "stdout",
     "output_type": "stream",
     "text": [
      "30.0\n",
      "[  66.  538.  444.]\n",
      "65.9146049641\n",
      "[ 0.03148053 -0.00193169 -0.00228943]\n",
      "[ 0.5707454   0.58309198 -0.07513857]\n"
     ]
    }
   ],
   "source": [
    "import numpy as np\n",
    "import random\n",
    "import pandas as pd\n",
    "#Works\n",
    "class linearRegression():\n",
    "    def __init__(self,X,Y):\n",
    "        #pass in the inputs to the function as well as the outputs\n",
    "        self.X = X\n",
    "        self.Y = Y\n",
    "        self.XTil = np.insert(X.T,0,np.ones(X.shape[0]), axis = 0).T\n",
    "        self.wTil = np.ones(X.shape[1]+1)\n",
    "    def cost(self):\n",
    "        #How far away we are from the actual solution\n",
    "        #Though not particularly useful in this program it could be used later.\n",
    "        g = 0\n",
    "        for k in range(self.XTil.shape[0]):\n",
    "            g+=(np.dot(self.XTil[0].T,self.wTil) - self.Y[k])**2\n",
    "        return g\n",
    "    def costPrime(self):\n",
    "        #The derivitive of the cost function\n",
    "        delG = np.zeros(self.wTil.size)\n",
    "        for k in range(self.XTil.shape[0]):\n",
    "            delG += np.dot(self.XTil[k],(np.dot(self.XTil[k].T,self.wTil) - self.Y[k]))\n",
    "        delG = 2 * delG\n",
    "        return delG\n",
    "        \n",
    "    \n",
    "    \n",
    "    \n",
    "class gradientDecent():\n",
    "    def __init__(self, learningRate, model, flatMin):\n",
    "        #This will find a minimum on a function\n",
    "        self.learningRate = learningRate\n",
    "        self.model = model\n",
    "        self.flatMin = flatMin\n",
    "    def decent(self):\n",
    "        #A single iteration of a step\n",
    "        self.model.wTil -= self.model.costPrime()*self.learningRate\n",
    "        \n",
    "    def optimize(self):\n",
    "        #decends until a minimum has been found\n",
    "        while (self.model.costPrime().dot(self.model.costPrime())) > self.flatMin:\n",
    "            self.decent()\n",
    "        return self.model\n",
    "    \n",
    "    \n",
    "# 1 = w0 + w1*1 + w2*2\n",
    "# 2 = w0 + w1*3 + w2*4\n",
    "# 5 = w0 + w1*9 + w2*11\n",
    "# 8 = w0 + w1*13 + w2*2\n",
    "\n",
    "X = np.array(([1,2],[3,4], [9,11], [13,2]))\n",
    "Y = np.array(([1,2, 5, 8]))\n",
    "LG = linearRegression(X, Y)\n",
    "print(LG.cost())\n",
    "print(LG.costPrime())\n",
    "trainer = gradientDecent(.0001, LG, .001)\n",
    "LG = trainer.optimize()\n",
    "print(LG.cost())\n",
    "print(LG.costPrime())\n",
    "print(LG.wTil)"
   ]
  },
  {
   "cell_type": "code",
   "execution_count": 27,
   "metadata": {
    "collapsed": false
   },
   "outputs": [
    {
     "name": "stdout",
     "output_type": "stream",
     "text": [
      "14\n",
      "14\n"
     ]
    }
   ],
   "source": [
    "a = np.array([1,2,3])\n",
    "print(a.dot(a))\n",
    "print(np.dot(a,a))"
   ]
  },
  {
   "cell_type": "code",
   "execution_count": 5,
   "metadata": {
    "collapsed": false
   },
   "outputs": [
    {
     "name": "stdout",
     "output_type": "stream",
     "text": [
      "[[ 1  2]\n",
      " [ 3  4]\n",
      " [ 9 11]\n",
      " [13  2]]\n",
      "[[ 1  1  2]\n",
      " [ 1  3  4]\n",
      " [ 1  9 11]\n",
      " [ 1 13  2]]\n"
     ]
    }
   ],
   "source": [
    "X = np.array(([1,2],[3,4], [9,11], [13,2]))\n",
    "Y = np.array(([1,2, 5, 8]))\n",
    "XTil = np.insert(X.T,0,np.ones(X.shape[0]), axis = 0).T\n",
    "wTil = np.ones(X.shape[1]+1)\n",
    "print(X)\n",
    "print(XTil)"
   ]
  },
  {
   "cell_type": "code",
   "execution_count": null,
   "metadata": {
    "collapsed": true
   },
   "outputs": [],
   "source": []
  }
 ],
 "metadata": {
  "anaconda-cloud": {},
  "kernelspec": {
   "display_name": "Python [default]",
   "language": "python",
   "name": "python3"
  },
  "language_info": {
   "codemirror_mode": {
    "name": "ipython",
    "version": 3
   },
   "file_extension": ".py",
   "mimetype": "text/x-python",
   "name": "python",
   "nbconvert_exporter": "python",
   "pygments_lexer": "ipython3",
   "version": "3.5.2"
  }
 },
 "nbformat": 4,
 "nbformat_minor": 1
}
